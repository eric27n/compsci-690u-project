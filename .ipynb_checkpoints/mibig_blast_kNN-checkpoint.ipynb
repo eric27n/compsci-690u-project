{
 "cells": [
  {
   "cell_type": "code",
   "execution_count": 1,
   "id": "15ba5ff2",
   "metadata": {},
   "outputs": [
    {
     "name": "stdout",
     "output_type": "stream",
     "text": [
      "Intel MKL WARNING: Support of Intel(R) Streaming SIMD Extensions 4.2 (Intel(R) SSE4.2) enabled only processors has been deprecated. Intel oneAPI Math Kernel Library 2025.0 will require Intel(R) Advanced Vector Extensions (Intel(R) AVX) instructions.\n",
      "Intel MKL WARNING: Support of Intel(R) Streaming SIMD Extensions 4.2 (Intel(R) SSE4.2) enabled only processors has been deprecated. Intel oneAPI Math Kernel Library 2025.0 will require Intel(R) Advanced Vector Extensions (Intel(R) AVX) instructions.\n"
     ]
    }
   ],
   "source": [
    "from Bio import SeqIO\n",
    "import json\n",
    "from collections import Counter, defaultdict\n",
    "import subprocess # to run blastn\n",
    "from sklearn.metrics import classification_report, f1_score # for eval"
   ]
  },
  {
   "cell_type": "code",
   "execution_count": 2,
   "id": "a8bcb33f",
   "metadata": {},
   "outputs": [
    {
     "ename": "FileNotFoundError",
     "evalue": "[Errno 2] No such file or directory: 'train_classes.json'",
     "output_type": "error",
     "traceback": [
      "\u001b[0;31m---------------------------------------------------------------------------\u001b[0m",
      "\u001b[0;31mFileNotFoundError\u001b[0m                         Traceback (most recent call last)",
      "Cell \u001b[0;32mIn[2], line 2\u001b[0m\n\u001b[1;32m      1\u001b[0m \u001b[38;5;66;03m# Class dictionairies\u001b[39;00m\n\u001b[0;32m----> 2\u001b[0m \u001b[38;5;28;01mwith\u001b[39;00m \u001b[38;5;28;43mopen\u001b[39;49m\u001b[43m(\u001b[49m\u001b[38;5;124;43m\"\u001b[39;49m\u001b[38;5;124;43mtrain_classes.json\u001b[39;49m\u001b[38;5;124;43m\"\u001b[39;49m\u001b[43m)\u001b[49m \u001b[38;5;28;01mas\u001b[39;00m f:\n\u001b[1;32m      3\u001b[0m     train_classes \u001b[38;5;241m=\u001b[39m json\u001b[38;5;241m.\u001b[39mload(f)\n\u001b[1;32m      5\u001b[0m \u001b[38;5;28;01mwith\u001b[39;00m \u001b[38;5;28mopen\u001b[39m(\u001b[38;5;124m\"\u001b[39m\u001b[38;5;124mtest_classes.json\u001b[39m\u001b[38;5;124m\"\u001b[39m) \u001b[38;5;28;01mas\u001b[39;00m f:\n",
      "File \u001b[0;32m~/opt/anaconda3/envs/cs590w/lib/python3.9/site-packages/IPython/core/interactiveshell.py:286\u001b[0m, in \u001b[0;36m_modified_open\u001b[0;34m(file, *args, **kwargs)\u001b[0m\n\u001b[1;32m    279\u001b[0m \u001b[38;5;28;01mif\u001b[39;00m file \u001b[38;5;129;01min\u001b[39;00m {\u001b[38;5;241m0\u001b[39m, \u001b[38;5;241m1\u001b[39m, \u001b[38;5;241m2\u001b[39m}:\n\u001b[1;32m    280\u001b[0m     \u001b[38;5;28;01mraise\u001b[39;00m \u001b[38;5;167;01mValueError\u001b[39;00m(\n\u001b[1;32m    281\u001b[0m         \u001b[38;5;124mf\u001b[39m\u001b[38;5;124m\"\u001b[39m\u001b[38;5;124mIPython won\u001b[39m\u001b[38;5;124m'\u001b[39m\u001b[38;5;124mt let you open fd=\u001b[39m\u001b[38;5;132;01m{\u001b[39;00mfile\u001b[38;5;132;01m}\u001b[39;00m\u001b[38;5;124m by default \u001b[39m\u001b[38;5;124m\"\u001b[39m\n\u001b[1;32m    282\u001b[0m         \u001b[38;5;124m\"\u001b[39m\u001b[38;5;124mas it is likely to crash IPython. If you know what you are doing, \u001b[39m\u001b[38;5;124m\"\u001b[39m\n\u001b[1;32m    283\u001b[0m         \u001b[38;5;124m\"\u001b[39m\u001b[38;5;124myou can use builtins\u001b[39m\u001b[38;5;124m'\u001b[39m\u001b[38;5;124m open.\u001b[39m\u001b[38;5;124m\"\u001b[39m\n\u001b[1;32m    284\u001b[0m     )\n\u001b[0;32m--> 286\u001b[0m \u001b[38;5;28;01mreturn\u001b[39;00m \u001b[43mio_open\u001b[49m\u001b[43m(\u001b[49m\u001b[43mfile\u001b[49m\u001b[43m,\u001b[49m\u001b[43m \u001b[49m\u001b[38;5;241;43m*\u001b[39;49m\u001b[43margs\u001b[49m\u001b[43m,\u001b[49m\u001b[43m \u001b[49m\u001b[38;5;241;43m*\u001b[39;49m\u001b[38;5;241;43m*\u001b[39;49m\u001b[43mkwargs\u001b[49m\u001b[43m)\u001b[49m\n",
      "\u001b[0;31mFileNotFoundError\u001b[0m: [Errno 2] No such file or directory: 'train_classes.json'"
     ]
    }
   ],
   "source": [
    "# Class dictionairies\n",
    "with open(\"train_classes.json\") as f:\n",
    "    train_classes = json.load(f)\n",
    "\n",
    "with open(\"test_classes.json\") as f:\n",
    "    test_classes = json.load(f)"
   ]
  },
  {
   "cell_type": "code",
   "execution_count": null,
   "id": "34356c0b",
   "metadata": {},
   "outputs": [],
   "source": [
    "# overall majority class (use if there's no hits at all)\n",
    "overall_majority = Counter(list(train_classes.values())).most_common(1)[0][0]\n",
    "\n",
    "print('Most common class in train set: ', overall_majority)"
   ]
  },
  {
   "cell_type": "code",
   "execution_count": null,
   "id": "7a5b69d8",
   "metadata": {},
   "outputs": [],
   "source": [
    "def run_blastn(test_fasta, db, output_file, k = 10):\n",
    "    # This runs blastn and outputs test ID, and k similar train IDs\n",
    "    subprocess.run([\n",
    "        \"./ncbi-blast-2.16.0+/bin/blastn\",\n",
    "        \"-query\", test_fasta,\n",
    "        \"-db\", db,\n",
    "        \"-out\", output_file,\n",
    "        # Needed for a tsv output, we only need these fields for our algo\n",
    "        \"-outfmt\", \"6 qseqid sseqid pident length evalue bitscore\",\n",
    "        \"-max_target_seqs\", str(k) # blastn will return at most k\n",
    "    ], check=True)\n",
    "    \n",
    "def read_blast_output(blast_output):\n",
    "    test_to_NN = defaultdict(list) # test instance -> k nearest neighbors\n",
    "    with open(blast_output) as f:\n",
    "        for line in f: \n",
    "            # train id is the blast hits\n",
    "            test_id, train_id, *_ = line.strip().split(\"\\t\")\n",
    "            test_to_NN[test_id].append(train_id)\n",
    "    return test_to_NN\n",
    "\n",
    "# This is our blast kNN implementation\n",
    "def predict_class(test_to_NN, train_classes, k = 10):\n",
    "    preds = {}\n",
    "    for test_id, train_ids in test_to_NN.items():\n",
    "        train_ids = train_ids[:k] # top k ids only\n",
    "        # the classes for the top k ids\n",
    "        k_classes = [train_classes.get(train_id) for train_id in train_ids if train_classes.get(train_id) is not None]\n",
    "        \n",
    "        if k_classes: # find majority\n",
    "            majority = Counter(k_classes).most_common(1)[0][0]\n",
    "        else: # edge case: no hits \n",
    "            majority = overall_majority\n",
    "            \n",
    "        preds[test_id] = majority\n",
    "        \n",
    "    return preds  "
   ]
  },
  {
   "cell_type": "code",
   "execution_count": null,
   "id": "641e9023",
   "metadata": {},
   "outputs": [],
   "source": [
    "# Returns metrics to compare with DGEB\n",
    "def eval_metrics(preds, test_classes):\n",
    "    y_pred = []\n",
    "    y_true = []\n",
    "    \n",
    "    for test_id, true_class in test_classes.items():\n",
    "        y_pred.append(preds.get(test_id, overall_majority))\n",
    "        y_true.append(true_class)\n",
    "        \n",
    "    # sklearn eval metrics\n",
    "    report = classification_report(y_true, y_pred, output_dict = False)\n",
    "    print(report)\n",
    "    \n",
    "    f1 = f1_score(y_true, y_pred)\n",
    "    print(\"Overall F1 Score: {:.3f}\".format(f1))\n",
    "    \n",
    "    return f1, classification_report(y_true, y_pred, output_dict = True) "
   ]
  },
  {
   "cell_type": "code",
   "execution_count": null,
   "id": "fb4a04c7",
   "metadata": {},
   "outputs": [],
   "source": [
    "### Running the algorithm:\n",
    "k = 9 # hyperparam!\n",
    "blast_output = \"blast_results.tsv\"\n",
    "test_fasta = \"mibig_test.fasta\"\n",
    "db = \"mibig_train_db\" # this is our local blastdb\n",
    "\n",
    "# Runs locally using BLAST+\n",
    "run_blastn(test_fasta, db, blast_output, k)\n",
    "\n",
    "test_to_NN = read_blast_output(blast_output)\n",
    "preds = predict_class(test_to_NN, train_classes, k)\n",
    "f1, report = eval_metrics(preds, test_classes)"
   ]
  }
 ],
 "metadata": {
  "kernelspec": {
   "display_name": "cs590w",
   "language": "python",
   "name": "cs590w"
  },
  "language_info": {
   "codemirror_mode": {
    "name": "ipython",
    "version": 3
   },
   "file_extension": ".py",
   "mimetype": "text/x-python",
   "name": "python",
   "nbconvert_exporter": "python",
   "pygments_lexer": "ipython3",
   "version": "3.9.18"
  }
 },
 "nbformat": 4,
 "nbformat_minor": 5
}
