{
 "cells": [
  {
   "cell_type": "code",
   "execution_count": 1,
   "id": "15ba5ff2",
   "metadata": {},
   "outputs": [
    {
     "name": "stdout",
     "output_type": "stream",
     "text": [
      "Intel MKL WARNING: Support of Intel(R) Streaming SIMD Extensions 4.2 (Intel(R) SSE4.2) enabled only processors has been deprecated. Intel oneAPI Math Kernel Library 2025.0 will require Intel(R) Advanced Vector Extensions (Intel(R) AVX) instructions.\n",
      "Intel MKL WARNING: Support of Intel(R) Streaming SIMD Extensions 4.2 (Intel(R) SSE4.2) enabled only processors has been deprecated. Intel oneAPI Math Kernel Library 2025.0 will require Intel(R) Advanced Vector Extensions (Intel(R) AVX) instructions.\n"
     ]
    }
   ],
   "source": [
    "from Bio import SeqIO\n",
    "import json\n",
    "from collections import Counter, defaultdict\n",
    "import subprocess # to run blastn\n",
    "from sklearn.metrics import classification_report # for eval"
   ]
  },
  {
   "cell_type": "code",
   "execution_count": 2,
   "id": "a8bcb33f",
   "metadata": {},
   "outputs": [],
   "source": [
    "# Class dictionairies\n",
    "with open(\"train_classes.json\") as f:\n",
    "    train_classes = json.load(f)\n",
    "\n",
    "with open(\"test_classes.json\") as f:\n",
    "    test_classes = json.load(f)"
   ]
  },
  {
   "cell_type": "code",
   "execution_count": 3,
   "id": "34356c0b",
   "metadata": {},
   "outputs": [
    {
     "name": "stdout",
     "output_type": "stream",
     "text": [
      "Most common class in train set:  NRP\n"
     ]
    }
   ],
   "source": [
    "# overall majority class (use if there's no hits at all)\n",
    "overall_majority = Counter(list(train_classes.values())).most_common(1)[0][0]\n",
    "\n",
    "print('Most common class in train set: ', overall_majority)"
   ]
  },
  {
   "cell_type": "code",
   "execution_count": 4,
   "id": "7a5b69d8",
   "metadata": {},
   "outputs": [],
   "source": [
    "def run_blastn(test_fasta, db, output_file, k = 10):\n",
    "    # This runs blastn and outputs test ID, and k similar train IDs\n",
    "    subprocess.run([\n",
    "        \"./ncbi-blast-2.16.0+/bin/blastn\",\n",
    "        \"-query\", test_fasta,\n",
    "        \"-db\", db,\n",
    "        \"-out\", output_file,\n",
    "        # Needed for a tsv output, we only need these fields for our algo\n",
    "        \"-outfmt\", \"6 qseqid sseqid pident length evalue bitscore\",\n",
    "        \"-max_target_seqs\", str(k) # blastn will return at most k\n",
    "    ], check=True)\n",
    "    \n",
    "def read_blast_output(blast_output):\n",
    "    test_to_NN = defaultdict(list) # test instance -> k nearest neighbors\n",
    "    with open(blast_output) as f:\n",
    "        for line in f: \n",
    "            # train id is the blast hits\n",
    "            test_id, train_id, *_ = line.strip().split(\"\\t\")\n",
    "            test_to_NN[test_id].append(train_id)\n",
    "    return test_to_NN\n",
    "\n",
    "# This is our blast kNN implementation\n",
    "def predict_class(test_to_NN, train_classes, k = 10):\n",
    "    preds = {}\n",
    "    for test_id, train_ids in test_to_NN.items():\n",
    "        train_ids = train_ids[:k] # top k ids only\n",
    "        # the classes for the top k ids\n",
    "        k_classes = [train_classes.get(train_id) for train_id in train_ids if train_classes.get(train_id) is not None]\n",
    "        \n",
    "        if k_classes: # find majority\n",
    "            majority = Counter(k_classes).most_common(1)[0][0]\n",
    "        else: # edge case: no hits \n",
    "            majority = overall_majority\n",
    "            \n",
    "        preds[test_id] = majority\n",
    "        \n",
    "    return preds  "
   ]
  },
  {
   "cell_type": "code",
   "execution_count": 5,
   "id": "641e9023",
   "metadata": {},
   "outputs": [],
   "source": [
    "# Returns metrics to compare with DGEB\n",
    "def eval_metrics(preds, test_classes):\n",
    "    y_pred = []\n",
    "    y_true = []\n",
    "    \n",
    "    for test_id, true_class in test_classes.items():\n",
    "        y_pred.append(preds.get(test_id, overall_majority))\n",
    "        y_true.append(true_class)\n",
    "        \n",
    "    # sklearn eval metrics\n",
    "    report = classification_report(y_true, y_pred, output_dict = False)\n",
    "    print(report)\n",
    "    \n",
    "    return classification_report(y_true, y_pred, output_dict = True) "
   ]
  },
  {
   "cell_type": "code",
   "execution_count": 6,
   "id": "fb4a04c7",
   "metadata": {},
   "outputs": [
    {
     "name": "stdout",
     "output_type": "stream",
     "text": [
      "              precision    recall  f1-score   support\n",
      "\n",
      "    Alkaloid       0.33      0.08      0.13        12\n",
      "         NRP       0.60      0.88      0.71       163\n",
      "  Polyketide       0.81      0.75      0.78       138\n",
      "        RiPP       1.00      0.46      0.63        67\n",
      "  Saccharide       1.00      0.79      0.88        28\n",
      "     Terpene       0.73      0.33      0.46        33\n",
      "\n",
      "    accuracy                           0.71       441\n",
      "   macro avg       0.75      0.55      0.60       441\n",
      "weighted avg       0.75      0.71      0.70       441\n",
      "\n"
     ]
    }
   ],
   "source": [
    "### Running the algorithm:\n",
    "k = 9 # hyperparam!\n",
    "blast_output = \"blast_results.tsv\"\n",
    "test_fasta = \"mibig_test.fasta\"\n",
    "db = \"mibig_train_db\" # this is our local blastdb\n",
    "\n",
    "# Runs locally using BLAST+\n",
    "run_blastn(test_fasta, db, blast_output, k)\n",
    "\n",
    "test_to_NN = read_blast_output(blast_output)\n",
    "preds = predict_class(test_to_NN, train_classes, k)\n",
    "report = eval_metrics(preds, test_classes)"
   ]
  },
  {
   "cell_type": "code",
   "execution_count": null,
   "id": "b3ca6724",
   "metadata": {},
   "outputs": [],
   "source": []
  }
 ],
 "metadata": {
  "kernelspec": {
   "display_name": "cs590w",
   "language": "python",
   "name": "cs590w"
  },
  "language_info": {
   "codemirror_mode": {
    "name": "ipython",
    "version": 3
   },
   "file_extension": ".py",
   "mimetype": "text/x-python",
   "name": "python",
   "nbconvert_exporter": "python",
   "pygments_lexer": "ipython3",
   "version": "3.9.18"
  }
 },
 "nbformat": 4,
 "nbformat_minor": 5
}
